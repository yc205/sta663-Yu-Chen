{
 "metadata": {
  "name": "",
  "signature": "sha256:7b019be28e00e88e41bed6bb0df172831cd8f097859de5b1445fd32b579a71f7"
 },
 "nbformat": 3,
 "nbformat_minor": 0,
 "worksheets": [
  {
   "cells": [
    {
     "cell_type": "markdown",
     "metadata": {},
     "source": [
      "Computer lab 02\n",
      "----\n",
      "\n",
      "These exercises provide more practice in data manipulation and working with numpy arrays."
     ]
    },
    {
     "cell_type": "code",
     "collapsed": false,
     "input": [
      "import os\n",
      "import sys\n",
      "import glob\n",
      "import matplotlib.pyplot as plt\n",
      "import numpy as np\n",
      "import pandas as pd\n",
      "%matplotlib inline\n",
      "%precision 4\n",
      "plt.style.use('ggplot')"
     ],
     "language": "python",
     "metadata": {},
     "outputs": [],
     "prompt_number": 6
    },
    {
     "cell_type": "markdown",
     "metadata": {},
     "source": [
      "**Exercise 1 [10 pts]**. Write a 12 by 12 times table chart without explicit looping (i.e. no for, while or comprehensions). Your code should generate this output:\n",
      "\n",
      "```python\n",
      "[[  1   2   3   4   5   6   7   8   9  10  11  12]\n",
      " [  2   4   6   8  10  12  14  16  18  20  22  24]\n",
      " [  3   6   9  12  15  18  21  24  27  30  33  36]\n",
      " [  4   8  12  16  20  24  28  32  36  40  44  48]\n",
      " [  5  10  15  20  25  30  35  40  45  50  55  60]\n",
      " [  6  12  18  24  30  36  42  48  54  60  66  72]\n",
      " [  7  14  21  28  35  42  49  56  63  70  77  84]\n",
      " [  8  16  24  32  40  48  56  64  72  80  88  96]\n",
      " [  9  18  27  36  45  54  63  72  81  90  99 108]\n",
      " [ 10  20  30  40  50  60  70  80  90 100 110 120]\n",
      " [ 11  22  33  44  55  66  77  88  99 110 121 132]\n",
      " [ 12  24  36  48  60  72  84  96 108 120 132 144]]\n",
      "```"
     ]
    },
    {
     "cell_type": "code",
     "collapsed": false,
     "input": [
      "\n",
      "print np.fromfunction(lambda i, j: (i+1)*(j+1), (12,12)).astype('int')\n",
      "\n",
      "\n",
      "\n"
     ],
     "language": "python",
     "metadata": {},
     "outputs": [
      {
       "output_type": "stream",
       "stream": "stdout",
       "text": [
        "[[  1   2   3   4   5   6   7   8   9  10  11  12]\n",
        " [  2   4   6   8  10  12  14  16  18  20  22  24]\n",
        " [  3   6   9  12  15  18  21  24  27  30  33  36]\n",
        " [  4   8  12  16  20  24  28  32  36  40  44  48]\n",
        " [  5  10  15  20  25  30  35  40  45  50  55  60]\n",
        " [  6  12  18  24  30  36  42  48  54  60  66  72]\n",
        " [  7  14  21  28  35  42  49  56  63  70  77  84]\n",
        " [  8  16  24  32  40  48  56  64  72  80  88  96]\n",
        " [  9  18  27  36  45  54  63  72  81  90  99 108]\n",
        " [ 10  20  30  40  50  60  70  80  90 100 110 120]\n",
        " [ 11  22  33  44  55  66  77  88  99 110 121 132]\n",
        " [ 12  24  36  48  60  72  84  96 108 120 132 144]]\n"
       ]
      }
     ],
     "prompt_number": 12
    },
    {
     "cell_type": "markdown",
     "metadata": {},
     "source": [
      "**Exercise 2 [10 pts]**. Create a new matrix that normalizes the given matrix so that all *columns* sum to 1.0 without using any loops. Create another matrix so that all *rows* sum to 1.0. In other words, if the 3 matrices were `xs` (given), `ys` (column normalized) and `zs` (row normalized), we would have \n",
      "\n",
      "`ys.sum(axis=0)` = `[ 1.,  1.,  1.,  1.,  1.,  1.]` \n",
      "\n",
      "and \n",
      "\n",
      "`zs.sum(axis=1)` = `[ 1.,  1.,  1.,  1.]`\n",
      "\n",
      "Start by creating the following matrix `xs`\n",
      "```python\n",
      "[[  1.   2.   3.   4.   5.   6.]\n",
      " [  7.   8.   9.  10.  11.  12.]\n",
      " [ 13.  14.  15.  16.  17.  18.]\n",
      " [ 19.  20.  21.  22.  23.  24.]]\n",
      "```"
     ]
    },
    {
     "cell_type": "code",
     "collapsed": false,
     "input": [
      "# Created a 4 * 6 dimension matrix with the float type value\n",
      "xs=np.array(range(1,25)).astype(\"f8\").reshape(4,6)\n",
      "print xs\n",
      "\n",
      "# Normailzed the column sum to 1.0 \n",
      "mu = xs.sum(axis=0)\n",
      "# Divided the cell by its corresponding column \n",
      "ys = xs/mu\n",
      "print ys.sum(axis=0)\n",
      "\n",
      "# Normalized the row sum to 1.0 \n",
      "mu = xs.sum(axis=1)[:, np.newaxis]\n",
      "zs = xs/mu\n",
      "print zs.sum(axis=1)\n",
      "\n",
      "\n"
     ],
     "language": "python",
     "metadata": {},
     "outputs": [
      {
       "output_type": "stream",
       "stream": "stdout",
       "text": [
        "[[  1.   2.   3.   4.   5.   6.]\n",
        " [  7.   8.   9.  10.  11.  12.]\n",
        " [ 13.  14.  15.  16.  17.  18.]\n",
        " [ 19.  20.  21.  22.  23.  24.]]\n",
        "[ 1.  1.  1.  1.  1.  1.]\n",
        "[ 1.  1.  1.  1.]\n"
       ]
      }
     ],
     "prompt_number": 13
    },
    {
     "cell_type": "markdown",
     "metadata": {},
     "source": [
      "**Exercise 3 [10 pts]**. In this exercise, we will practice using Pandas dataframes to explore and summarize a data set `heart`.\n",
      "\n",
      "This data contains the survival time after receiving a heart transplant, the age of the patient and whether or not the survival time was censored.\n",
      "\n",
      "- Number of Observations - 69\n",
      "- Number of Variables - 3\n",
      "\n",
      "Variable name definitions::\n",
      "\n",
      "- survival - Days after surgery until death\n",
      "- censors - indicates if an observation is censored. 1 is uncensored\n",
      "- age - age at the time of surgery\n",
      "\n",
      "Answer the following questions with respect to the `heart` data set:\n",
      "\n",
      "- How many patients were censored?\n",
      "- What is the correlation coefficient between age and survival for uncensored patients?\n",
      "- What is the average age for censored and uncensored patients?\n",
      "- What is the average survival time for censored and uncensored patients under the age of 45?\n",
      "- What is the survival time of the youngest and oldest uncensored patient?"
     ]
    },
    {
     "cell_type": "code",
     "collapsed": true,
     "input": [
      "import statsmodels.api as sm\n",
      "heart = sm.datasets.heart.load_pandas().data\n",
      "\n",
      "heart.head(n=6)"
     ],
     "language": "python",
     "metadata": {},
     "outputs": [
      {
       "html": [
        "<div style=\"max-height:1000px;max-width:1500px;overflow:auto;\">\n",
        "<table border=\"1\" class=\"dataframe\">\n",
        "  <thead>\n",
        "    <tr style=\"text-align: right;\">\n",
        "      <th></th>\n",
        "      <th>survival</th>\n",
        "      <th>censors</th>\n",
        "      <th>age</th>\n",
        "    </tr>\n",
        "  </thead>\n",
        "  <tbody>\n",
        "    <tr>\n",
        "      <th>0</th>\n",
        "      <td>  15</td>\n",
        "      <td> 1</td>\n",
        "      <td> 54.3</td>\n",
        "    </tr>\n",
        "    <tr>\n",
        "      <th>1</th>\n",
        "      <td>   3</td>\n",
        "      <td> 1</td>\n",
        "      <td> 40.4</td>\n",
        "    </tr>\n",
        "    <tr>\n",
        "      <th>2</th>\n",
        "      <td> 624</td>\n",
        "      <td> 1</td>\n",
        "      <td> 51.0</td>\n",
        "    </tr>\n",
        "    <tr>\n",
        "      <th>3</th>\n",
        "      <td>  46</td>\n",
        "      <td> 1</td>\n",
        "      <td> 42.5</td>\n",
        "    </tr>\n",
        "    <tr>\n",
        "      <th>4</th>\n",
        "      <td> 127</td>\n",
        "      <td> 1</td>\n",
        "      <td> 48.0</td>\n",
        "    </tr>\n",
        "    <tr>\n",
        "      <th>5</th>\n",
        "      <td>  64</td>\n",
        "      <td> 1</td>\n",
        "      <td> 54.6</td>\n",
        "    </tr>\n",
        "  </tbody>\n",
        "</table>\n",
        "</div>"
       ],
       "metadata": {},
       "output_type": "pyout",
       "prompt_number": 8,
       "text": [
        "   survival  censors   age\n",
        "0        15        1  54.3\n",
        "1         3        1  40.4\n",
        "2       624        1  51.0\n",
        "3        46        1  42.5\n",
        "4       127        1  48.0\n",
        "5        64        1  54.6"
       ]
      }
     ],
     "prompt_number": 8
    },
    {
     "cell_type": "code",
     "collapsed": false,
     "input": [
      "import statsmodels.api as sm\n",
      "heart = sm.datasets.heart.load_pandas().data\n",
      "# Used len(df.index) method to count the total number of censored patients\n",
      "patients_cen = heart[heart.censors==0]\n",
      "print \"There are\",len(patients_cen.index),\"patients censored.\",'\\n'\n",
      "\n",
      "# Correlation between age and survival for uncensored patients\n",
      "patients_uncen = heart.query('censors==1')\n",
      "frame = heart[(heart.censors==1)].ix[:,::2]\n",
      "print \"The correlation between age and survival for uncensored patients is\",frame['survival'].corr(frame['age']),'\\n'\n",
      "\n",
      "# The average age mean for uncensored and censored patients\n",
      "print \"The average age for uncensored patients is\",patients_uncen.age.mean()\n",
      "print \"The average age for censored patients is\",patients_cen.age.mean(),'\\n'\n",
      "\n",
      "# Average survival time under age 45 for two groups patients\n",
      "uncen_time_mean = patients_uncen[(patients_uncen.age<45)].survival.mean()\n",
      "cen_time_mean = patients_cen[(patients_cen.age<45)].survival.mean()\n",
      "print \"The average survival time for uncensored patients under the age of 45 is\",uncen_time_mean\n",
      "print \"The average survival time for censored patients under the age of 45 is\",cen_time_mean,'\\n'\n",
      "\n",
      "# Got the survival time of the youngest and oldest uncensored patient\n",
      "print \"The survival time of the youngest uncensored patient is\",patients_uncen.sort('age').iloc[0,0]\n",
      "print \"The survival time of the oldest uncensored patient is\",patients_uncen.sort('age',ascending=False).iloc[0,0]\n"
     ],
     "language": "python",
     "metadata": {},
     "outputs": [
      {
       "output_type": "stream",
       "stream": "stdout",
       "text": [
        "There are 24 patients censored. \n",
        "\n",
        "The correlation between age and survival for uncensored patients is 0.00325649928321 \n",
        "\n",
        "The average age for uncensored patients is 48.4844444444\n",
        "The average age for censored patients is 41.7291666667 \n",
        "\n",
        "The average survival time for uncensored patients under the age of 45 is 169.909090909\n",
        "The average survival time for censored patients under the age of 45 is 712.818181818 \n",
        "\n",
        "The survival time of the youngest uncensored patient is 228.0\n",
        "The survival time of the oldest uncensored patient is 60.0\n"
       ]
      }
     ],
     "prompt_number": 14
    },
    {
     "cell_type": "markdown",
     "metadata": {},
     "source": [
      "**Exercise 4 [20 pts]**. Normalize the given matrix $M$ so that all rows sum to 1.0 (as in Exercise 2). This can then be considered as a transition matrix $P$ for a Markov chain. Find the stationary distribution of this matrix in the following ways using `numpy` and `numpy.linalg` (or `scipy.linalg`):\n",
      "\n",
      "- By repeated matrix multiplication of a random probabilty vector $v$ (a row vector normalized to sum to 1.0) with $P$ using matrix multiplication with `np.dot`.\n",
      "- By raising the matrix $P$ to some large power unitl it doesn't change with higher powers (see `np.linalg.matrix_power`) and then calculating $vP$\n",
      "- From the equation for stationarity $wP = w$, we can see that $w$ must be a left eigenvector of $P$ with eigenvalue $1$ (Note: np.linalg.eig returns the right eigenvectors, but the left eighenvector of a matrix is the right eigenvector of the transposed matrix). Use this to find $w$ using `np.linalg.eig`.\n",
      "- Suppose $w = (w_1, w_2, w_3)$. Then from $wP = w$, we have:\n",
      "\\begin{align}\n",
      "w_1 P_{11} + w_2 P_{21} + w_3 P_{31} &= w_1 \\\\\n",
      "w_1 P_{12} + w_2 P_{22} + w_3 P_{32} &= w_2 \\\\\n",
      "w_1 P_{13} + w_2 P_{23} + w_3 P_{331} &= w_3 \\\\\n",
      "\\end{align}\n",
      "This is a singular system, but we also know that $w_1 + w_2 + w_3 = 1$. Use these facts to set up a linear system of equations that can be solved with `np.linalg.solve` to find $w$.\n",
      "\n",
      "Given matrix $M$\n",
      "```python\n",
      "      [[7, 8, 8],\n",
      "       [1, 3, 8],\n",
      "       [9, 2, 1]]\n",
      "```"
     ]
    },
    {
     "cell_type": "code",
     "collapsed": false,
     "input": [
      "import scipy.linalg as la\n",
      "# Created the M matrix\n",
      "M=np.array([[7,8,8],[1,3,8],[9,2,1]])\n",
      "\n",
      "# Normalized the row of the matrix M as P\n",
      "mu = M.sum(axis=1)[:, np.newaxis].astype(\"f8\")\n",
      "P = M/mu\n",
      "\n",
      "\n",
      "# Generated a random normalized probabilty vector v and Got the P matrix by dot multiplication\n",
      "v = np.random.random(3) # Generated the vetor of length 3\n",
      "v = v/sum(v) # Normalized the vector with row sum to 1\n",
      "# Repeated 20 times matrix multiplication\n",
      "s = np.dot(v,P)  \n",
      "for i in range(1,21):\n",
      "     s = np.dot(s,P) \n",
      "print s,'\\n'\n",
      "\n",
      "# Powered the matrix P and got the staitonary vector\n",
      "S  = np.dot(v,np.linalg.matrix_power(P,300))\n",
      "print S,'\\n'\n",
      "\n",
      "# Got the eigenvector whose eigenvalue is equal to 1\n",
      "v,U=la.eig(P.transpose()) # Got the left eigenvector by solving right eigenvector of the transpose matrix\n",
      "print U[:,0]/sum(U[:,0]),'\\n' # Normalized this eigenvector so as the sum = 1\n",
      "\n",
      "# Solved the singular system\n",
      "b=np.array([0,0,1]) # The right part of this singular linear system\n",
      "a=(P.transpose()-np.diag([1,1,1]))[0:2,:] # Took the first two equations from the original linear system\n",
      "p=np.concatenate((a,np.array([[1,1,1]])),axis=0) # Created the left part of the singular linear system\n",
      "x=la.solve(p,b) # Solved the singular linear system\n",
      "print x,'\\n'"
     ],
     "language": "python",
     "metadata": {},
     "outputs": [
      {
       "output_type": "stream",
       "stream": "stdout",
       "text": [
        "[ 0.3986  0.2606  0.3408] \n",
        "\n",
        "[ 0.3986  0.2606  0.3408] \n",
        "\n",
        "[ 0.3986+0.j  0.2606+0.j  0.3408+0.j] \n",
        "\n",
        "[ 0.3986  0.2606  0.3408] \n",
        "\n"
       ]
      }
     ],
     "prompt_number": 23
    },
    {
     "cell_type": "code",
     "collapsed": false,
     "input": [],
     "language": "python",
     "metadata": {},
     "outputs": [],
     "prompt_number": 49
    },
    {
     "cell_type": "code",
     "collapsed": false,
     "input": [],
     "language": "python",
     "metadata": {},
     "outputs": []
    }
   ],
   "metadata": {}
  }
 ]
}