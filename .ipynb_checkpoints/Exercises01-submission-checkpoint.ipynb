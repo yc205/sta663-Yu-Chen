{
 "metadata": {
  "name": "",
  "signature": "sha256:4b38ac976c09baa0072013d6dca2e2fe32a45b460dead3e30d2e2eecc5ec2115"
 },
 "nbformat": 3,
 "nbformat_minor": 0,
 "worksheets": [
  {
   "cells": [
    {
     "cell_type": "code",
     "collapsed": false,
     "input": [
      "from IPython.display import Image"
     ],
     "language": "python",
     "metadata": {},
     "outputs": [],
     "prompt_number": 1
    },
    {
     "cell_type": "markdown",
     "metadata": {},
     "source": [
      "Computer lab\n",
      "----\n",
      "\n",
      "These exercises are designed to give you some practice coding in Python and proivde familiarity with the language syntax."
     ]
    },
    {
     "cell_type": "markdown",
     "metadata": {},
     "source": [
      "**Exercise 1 [10 pts]**. Write code to solve the [Project Euler puzzle 1](https://projecteuler.net/problems)"
     ]
    },
    {
     "cell_type": "code",
     "collapsed": false,
     "input": [
      "# Initialized the sum equals to zero\n",
      "s=0\n",
      "for i in range(1000):\n",
      "  # If the value is the multple times of 5 or 3, saved this value and sum it to the s\n",
      "  if (i%3==0 or i%5==0):\n",
      "    s=s+i\n",
      "print s\n"
     ],
     "language": "python",
     "metadata": {},
     "outputs": [
      {
       "output_type": "stream",
       "stream": "stdout",
       "text": [
        "233168\n"
       ]
      }
     ],
     "prompt_number": 94
    },
    {
     "cell_type": "markdown",
     "metadata": {},
     "source": [
      "**Exericse 2 [10 pts]**. Wikipedia gives the sample correlation coefficient formula as shown below. Write functions to calculate the sample mean, the sample standard deviation and the sample correlation coefficient. Calculate the sample correlation coefficent for the following lists of numbers:\n",
      "\n",
      "```python\n",
      "x = [10.0, 8.0, 13.0, 9.0, 11.0, 14.0, 6.0, 4.0, 12.0, 7.0, 5.0]\n",
      "y = [8.04, 6.95, 7.58, 8.81, 8.33, 9.96, 7.24, 4.26, 10.84, 4.82, 5.68]\n",
      "```\n",
      "\n",
      "Do NOT use `numpy`  functions - the idea is to code the functions yourself! The square root of $x$ can be calculated as ```x**0.5```."
     ]
    },
    {
     "cell_type": "code",
     "collapsed": false,
     "input": [
      "Image(url=\"http://upload.wikimedia.org/math/0/4/e/04e3ee493ddb1f01e03d8bf024fbd0a5.png\")"
     ],
     "language": "python",
     "metadata": {},
     "outputs": [
      {
       "html": [
        "<img src=\"http://upload.wikimedia.org/math/0/4/e/04e3ee493ddb1f01e03d8bf024fbd0a5.png\"/>"
       ],
       "metadata": {},
       "output_type": "pyout",
       "prompt_number": 4,
       "text": [
        "<IPython.core.display.Image at 0x7f9126a78550>"
       ]
      }
     ],
     "prompt_number": 4
    },
    {
     "cell_type": "code",
     "collapsed": false,
     "input": [
      "Image(url=\"http://upload.wikimedia.org/math/7/0/d/70df5220933ae8298cd5ef1c719360bf.png\")"
     ],
     "language": "python",
     "metadata": {},
     "outputs": [
      {
       "html": [
        "<img src=\"http://upload.wikimedia.org/math/7/0/d/70df5220933ae8298cd5ef1c719360bf.png\"/>"
       ],
       "metadata": {},
       "output_type": "pyout",
       "prompt_number": 5,
       "text": [
        "<IPython.core.display.Image at 0x7f9126a78590>"
       ]
      }
     ],
     "prompt_number": 5
    },
    {
     "cell_type": "code",
     "collapsed": false,
     "input": [
      "\n",
      "x = [10.0, 8.0, 13.0, 9.0, 11.0, 14.0, 6.0, 4.0, 12.0, 7.0, 5.0]\n",
      "y = [8.04, 6.95, 7.58, 8.81, 8.33, 9.96, 7.24, 4.26, 10.84, 4.82, 5.68]\n",
      "# Wrote sm () function to get the sample mean \n",
      "def sm (x): \n",
      " t = 0\n",
      " for _ in x:\n",
      "    t = t + _\n",
      " return t/len(x)\n",
      "\n",
      "# Output the sample mean of x and y\n",
      "print \"The sample mean of x is: %2fs\"%sm(x)\n",
      "print \"The sample mean of y is: %2fs\"%sm(y)\n",
      "\n",
      "# Wrote sd () function to get the standard deviation\n",
      "def sd (x): \n",
      " t1 = 0\n",
      " for _ in x:\n",
      "    t1 = t1 + (_-sm(x))**2\n",
      " return (t1/(len(x)-1))**0.5 \n",
      "\n",
      "# Output the standard deviation of x and y\n",
      "print \"The standard deviation of x is: %2fs\"%sd(x)\n",
      "print \"The standard deviation of y is: %2fs\"%sd(y)\n",
      "\n",
      "# Wrote sc () function to get the sample correlation between x and y\n",
      "def sc (x,y): \n",
      " t2 = 0\n",
      " for i in range(0,len(x)):\n",
      "    t2 = t2 + (x[i]-sm(x))/sd(x) * (y[i]-sm(y))/sd(y)\n",
      " return t2/(len(x)-1)\n",
      "# Output sample correlation between x and y\n",
      "\n",
      "print \"The sample correlation between x and y is: %2fs\"%sc(x,y)\n",
      "\n",
      "\n",
      "\n"
     ],
     "language": "python",
     "metadata": {},
     "outputs": [
      {
       "output_type": "stream",
       "stream": "stdout",
       "text": [
        "The sample mean of x is: 9.000000s\n",
        "The sample mean of y is: 7.500909s\n",
        "The standard deviation of x is: 3.316625s\n",
        "The standard deviation of y is: 2.031568s\n",
        "The sample correlation between x and y is: 0.816421s\n"
       ]
      }
     ],
     "prompt_number": 102
    },
    {
     "cell_type": "markdown",
     "metadata": {},
     "source": [
      "**Exercise 3** [10 pts]. Write a function to calculate hailstone numbers.\n",
      "\n",
      "Start with any positive integer (an initial seed) and obtain a sequence of numbers by following these rules.\n",
      "\n",
      "1. Base case: If the number is 1, stop.\n",
      "2. Recursive case: If the current number is even, divide it by two; else if it is odd, multiply it by three and add one. \n",
      "\n",
      "The seqeunce of numbers obtained are known as *hailstone numbers* - although it is not proven that all sequences will eventually terminate with 1 (Collatz conjecture), no counter-example has yet been found. \n",
      "\n",
      "For example, starting with 7, we get the sequence 7, 22, 11, 34, 17, 52, 26, 13, 40, 20, 10, 5, 16, 8, 4, 2, 1.\n",
      "\n",
      "A recursive function to find the sequence of hailstone numbers is given below. Write a *non-recursive* version of the function that gives the same result. Using your function, what is the length of the sequeence obtained when we start with 23?\n",
      "\n",
      "```python\n",
      "def hailstone(n, acc=None):\n",
      "    \"\"\"Given a positive integer n, return the series of hailstone numbers.\"\"\"\n",
      "    if acc is None:\n",
      "        acc = []\n",
      "    acc.append(n)\n",
      "    if n == 1:\n",
      "        return acc\n",
      "    else:\n",
      "        if n%2 == 0:\n",
      "            return hailstone(n/2, acc)\n",
      "        else:\n",
      "            return hailstone(n*3 + 1, acc)\n",
      "```"
     ]
    },
    {
     "cell_type": "code",
     "collapsed": false,
     "input": [
      "# Your code here\n",
      "def hailstone(n):\n",
      "    # Created a alist and stored the sequence in the alist\n",
      "    alist=[n]\n",
      "    # Stopped if n equals to 1\n",
      "    while n!=1:\n",
      "        # if n is even number, then divide the value by 2\n",
      "        if n%2 == 0:\n",
      "           n = n/2\n",
      "        # if n is odd number, then do the following calculation\n",
      "        else:\n",
      "           n = n*3+1\n",
      "        # Appended the list\n",
      "        alist.append(n)\n",
      "    return alist\n",
      "# The same result given by the non-recursive function hailstone(n)\n",
      "print hailstone(23)\n",
      "# Got the length of the sequence by calling len()\n",
      "len(hailstone(23))"
     ],
     "language": "python",
     "metadata": {},
     "outputs": [
      {
       "output_type": "stream",
       "stream": "stdout",
       "text": [
        "[23, 70, 35, 106, 53, 160, 80, 40, 20, 10, 5, 16, 8, 4, 2, 1]\n"
       ]
      },
      {
       "metadata": {},
       "output_type": "pyout",
       "prompt_number": 104,
       "text": [
        "16"
       ]
      }
     ],
     "prompt_number": 104
    },
    {
     "cell_type": "markdown",
     "metadata": {},
     "source": [
      "**Exercise 4 [20 pts]**. A Caesar cipher replaces each in a string with the letter $k$ modulo 26 positions down. For example, with $k=3$, 'a' would become 'd', 'b' would become 'e' and so on. The Caesar cipher is very easy to crack, since the relative letter frequencies are preserved - that is, 'e' is the most commonly used English letter, so the most frequent letter in the cipher is likely to be the code for 'e'. We can download a large corpus of English text (e.g. a few books from Project Gutenberg), and estimate the individual letter frequencies. Using for example, a multinomial model where each letter is one of 26 possibiilites with frequencies given by the the previous estimates, and assuming that each letter is independent, we can simply go through all 26 possible values of $k$ and choose the model with the highest likelihood. Or just use $\\chi^2$ statistic to compare observed and expected frequencies.\n",
      "\n",
      "Here is an extended exercise to write a Caesar encoder and code to crack the cipher. \n",
      "\n",
      "**Writing the encoder/decoder**:\n",
      "    - Convert a sentence to lowercase\n",
      "    - Write a function let2int to convert a lowercase letter to a number from $0$ to $25$\n",
      "        - Hint: look up ord() function\n",
      "    - Write the reverse function int2let to convert a number to a lowercase letter\n",
      "        - Hint: look up chr() function\n",
      "    - Write a functiton to encode a sentence with shift $k$\n",
      "        - Hint: Use list comprehension with [ternary operator](https://docs.python.org/3.3/faq/programming.html#is-there-an-equivalent-of-c-s-ternary-operator) to check for a lowercase letter\n",
      "    - Write a function to decode a sentence with shift $k$\n",
      "        - Hint: Use the encode function\n",
      "    - Confirm that sentence = decode(encode(sentence))\n",
      "\n",
      "**More hints for encoding/decoding**:\n",
      "\n",
      "There are two slightly tricky aspects to encoding/decoding. First is that we want to convert any character into an integer in $[0, 26)$. Because letters are ordered ('b' comes after 'a'), this can be done by subtracting `ord('a')` for the lowercase letters. After adding $k$, we need to take the number modulo $26$ since the Caesar cipher \"wraps around\". Second is that this will only work for lowercase letters - so we need to pass along any characters that are not in 'a-z' unchanged.\n",
      "    \n",
      "**Writing the cracker**:\n",
      "    - Write a function to download a book from Project Gutenberg\n",
      "        - Hint: use\n",
      "        ```python\n",
      "        text = urllib2.urlopen('http://www.gutenberg.org/ebooks/1342.txt.utf-8').read()\n",
      "        ```\n",
      "    - Write a fucntion to estimate letter frequencies in text\n",
      "        - Hint: recall various ways to count letters in a string from Lecture 1\n",
      "    - Write a function to calculate the $\\chi^2$ statistic given observed and expected frequencies\n",
      "        - Hint: $\\chi^2 = \\sum_{i=1}{k} \\frac{(\\text{Observed} - \\text{Expected})^2}{\\text{Expected}}$\n",
      "    - Write a cracker to decode encrypted text by choosing the shift $k$ with the smallest $\\chi^2$ score\n",
      "        - Hint: xs.index(min(xs)) gives location of minimum value in the list xs."
     ]
    },
    {
     "cell_type": "code",
     "collapsed": false,
     "input": [
      "import urllib2\n",
      "import string\n",
      "from string import digits\n",
      "\n",
      "# I created a string ,stt, for test\n",
      "stt =\"\"\"\n",
      "This is the case for text. \"\\';\n",
      "It should give the right answer/.\n",
      "\"\"\"\n",
      "# Converted the string to the lower case\n",
      "stt=stt.lower()\n",
      "\n",
      "# Wrote the let2int() function which converted only the a-z to number and remained other values\n",
      "def let2int(stt):\n",
      "   # If the value was a-z then converted to the corresponding value within 0-25\n",
      "   # Otherwise, kept the original value\n",
      "   l =[ord(c)-ord('a') if ord(c)>=ord('a') and ord(c)<=ord('z') else c for c in stt]\n",
      "   # Returned the converted text\n",
      "   return l\n",
      "\n",
      "# Wrote the let2int() function which converted only the a-z to number and remained other values\n",
      "def int2let(stt):\n",
      "    # If the value was 0-25 then converted to the corresponding character a-z\n",
      "    # Otherwise, kept the original value\n",
      "    l =[chr(c+97) if c>=0 and c <=25 else c for c in stt]\n",
      "    return l\n",
      "\n",
      "# Wrote the encode() function to convert the sentence with shift k\n",
      "def encode(stt,k):\n",
      "     # Called the let2int(stt) and got the number format for the sentence\n",
      "     number=let2int(stt)\n",
      "     # if the elements in the list is within 0-25, then tranformed it to the right value based on the shfit k\n",
      "     l=[(i + k)%26 if i>=0 and i<=25 else i for i in number]\n",
      "     # Returned the sentence\n",
      "     return (\"\").join(int2let(l))\n",
      "    \n",
      "# Wrote the decode() function to convert the sentence back to the original one with shift k\n",
      "def decode(stt,k):\n",
      "    # Called the let2int(stt) and got the number format for the sentence\n",
      "    number=let2int(stt)\n",
      "    # if the elements in the list is within 0-25, then tranformed it to the right value based on the shfit k\n",
      "    l=[(i - k)%26 if i>=0 and i<=25 else i for i in number]\n",
      "    # Returned the original sentence\n",
      "    return (\"\").join(int2let(l))\n",
      "\n",
      "# Tested the decode and encode by calling \n",
      "decode(encode(stt,24),24)\n",
      "\n",
      "# Wrote a download() function and returned the downloaded contents \n",
      "def download ():\n",
      "  text = urllib2.urlopen('http://www.gutenberg.org/ebooks/1342.txt.utf-8').read()\n",
      "  return text\n",
      "\n",
      "# Called the download() function and saved the contents in st variable\n",
      "st=download() \n",
      "    \n",
      "# Wrote the freq() function and returned the estimate letter frequencies 'f' in the text\n",
      "def freq(st):\n",
      "    # Applied count method on the string and saved the count for a-z in the variable 'l'    \n",
      "     l=[st.count(chr(i)) for i in range(97,123)] \n",
      "    # Got the sum of the count in list l by calling reduce()\n",
      "     s=reduce(lambda x,y:float(x)+float(y),l)\n",
      "    # Calculated the frequency \n",
      "     f=[float(j)/s for j in l]\n",
      "     return f\n",
      "    \n",
      "# Saved the letter frequencies in the variable 'exp_freq' by calling freq(st) where the st is the given text\n",
      "exp_freq=freq(st)\n",
      "exp_freq\n",
      "# Here I encode the string 'stt' by 2 shifts for the further test for the cracker\n",
      "encode_test=encode(stt,2) \n",
      "# Saved the letter frequencies of observation string in the variable 'obs_freq'\n",
      "obs_freq=freq(encode_test)\n",
      "obs_freq # obs_freq saved the frequency of the ecoded string with 2 shifts on the stt string\n",
      "\n",
      "# Wrote the chi() function with parameter obs, exp and k and returned the chi^2 statistics 's'\n",
      "def chi(obs_freq,exp_freq,k):\n",
      "     # Calulated the chi^2 statistics based on the formula\n",
      "     l=[(obs_freq[(i+k)%26]-exp_freq[i])**2/exp_freq[i] for i in range(26)]\n",
      "     s=reduce(lambda x,y:float(x)+float(y),l)\n",
      "     # returned the chi^2 statistics 's'\n",
      "     return s\n",
      "    \n",
      "# Wrote the function cracker() to decode the text stt with the best k \n",
      "def cracker(obs_freq,exp_freq,encode_test):\n",
      "    # Created the list l and stored the chi^2 with k from 0 to 25\n",
      "    l=[chi(obs_freq,exp_freq,k) for k in range(26)]\n",
      "    # Got best k which is related to the minimum chi^2\n",
      "    k_min=l.index(min(l))\n",
      "    # Decoded the string encode_test with the selected shift k_min\n",
      "    return decode(encode_test,k_min)\n",
      "\n",
      "# The econde_test is the text file with shift 2 on the stt text. I used the cracker function to find \n",
      "# the best k with the smallest chi^2 and decode it based on this k \n",
      "cracker(obs_freq,exp_freq,encode_test)"
     ],
     "language": "python",
     "metadata": {},
     "outputs": [
      {
       "output_type": "stream",
       "stream": "stdout",
       "text": [
        "[0.078425718352046, 0.015346548468414834, 0.02492023478414556, 0.041386751997618675, 0.1308596039180302, 0.022654251509260207, 0.018901798089355645, 0.06303265955368688, 0.06748090750955787, 0.0011869436201780415, 0.00602959917397654, 0.03959517408816498, 0.024931397263332187, 0.07149195836395264, 0.07653367812991266, 0.015601425076509494, 0.0011850832069802703, 0.061931294940606306, 0.06193687618019962, 0.08796591723021684, 0.028724779773587714, 0.010810861092248589, 0.022179846143828546, 0.0016092574160721097, 0.023541668604597082, 0.001735765513520553]\n",
        "[0.0, 0.0, 0.043478260869565216, 0.0, 0.021739130434782608, 0.021739130434782608, 0.13043478260869565, 0.021739130434782608, 0.043478260869565216, 0.10869565217391304, 0.10869565217391304, 0.0, 0.0, 0.021739130434782608, 0.0, 0.021739130434782608, 0.043478260869565216, 0.0, 0.0, 0.06521739130434782, 0.10869565217391304, 0.15217391304347827, 0.021739130434782608, 0.021739130434782608, 0.021739130434782608, 0.021739130434782608]\n"
       ]
      },
      {
       "metadata": {},
       "output_type": "pyout",
       "prompt_number": 106,
       "text": [
        "'\\nthis is the case for text. \"\\';\\nit should give the right answer/.\\n'"
       ]
      }
     ],
     "prompt_number": 106
    },
    {
     "cell_type": "code",
     "collapsed": false,
     "input": [],
     "language": "python",
     "metadata": {},
     "outputs": [],
     "prompt_number": 80
    },
    {
     "cell_type": "code",
     "collapsed": false,
     "input": [],
     "language": "python",
     "metadata": {},
     "outputs": [],
     "prompt_number": 87
    },
    {
     "cell_type": "code",
     "collapsed": false,
     "input": [],
     "language": "python",
     "metadata": {},
     "outputs": [],
     "prompt_number": 23
    },
    {
     "cell_type": "code",
     "collapsed": false,
     "input": [],
     "language": "python",
     "metadata": {},
     "outputs": [],
     "prompt_number": 24
    },
    {
     "cell_type": "code",
     "collapsed": false,
     "input": [],
     "language": "python",
     "metadata": {},
     "outputs": [],
     "prompt_number": 87
    },
    {
     "cell_type": "code",
     "collapsed": false,
     "input": [],
     "language": "python",
     "metadata": {},
     "outputs": [],
     "prompt_number": 25
    },
    {
     "cell_type": "code",
     "collapsed": false,
     "input": [],
     "language": "python",
     "metadata": {},
     "outputs": [],
     "prompt_number": 87
    },
    {
     "cell_type": "code",
     "collapsed": false,
     "input": [],
     "language": "python",
     "metadata": {},
     "outputs": [],
     "prompt_number": 87
    },
    {
     "cell_type": "code",
     "collapsed": false,
     "input": [
      "\n",
      "     "
     ],
     "language": "python",
     "metadata": {},
     "outputs": [],
     "prompt_number": 87
    },
    {
     "cell_type": "code",
     "collapsed": false,
     "input": [],
     "language": "python",
     "metadata": {},
     "outputs": [],
     "prompt_number": 87
    },
    {
     "cell_type": "code",
     "collapsed": false,
     "input": [],
     "language": "python",
     "metadata": {},
     "outputs": [],
     "prompt_number": 68
    },
    {
     "cell_type": "code",
     "collapsed": false,
     "input": [],
     "language": "python",
     "metadata": {},
     "outputs": []
    }
   ],
   "metadata": {}
  }
 ]
}