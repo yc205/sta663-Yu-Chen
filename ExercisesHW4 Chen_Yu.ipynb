{
 "metadata": {
  "name": "",
  "signature": "sha256:6d9582bb74e18e208e40af472711eda7ad51d1df0796fa7cb4ba1c09dad7151a"
 },
 "nbformat": 3,
 "nbformat_minor": 0,
 "worksheets": [
  {
   "cells": [
    {
     "cell_type": "code",
     "collapsed": false,
     "input": [
      "import os\n",
      "import sys\n",
      "import glob\n",
      "import matplotlib.pyplot as plt\n",
      "import numpy as np\n",
      "import scipy\n",
      "import pandas as pd\n",
      "%matplotlib inline\n",
      "%precision 4                                                    \n",
      "\n",
      "plt.style.use('ggplot')\n"
     ],
     "language": "python",
     "metadata": {},
     "outputs": [],
     "prompt_number": 76
    },
    {
     "cell_type": "code",
     "collapsed": false,
     "input": [],
     "language": "python",
     "metadata": {},
     "outputs": [],
     "prompt_number": 76
    },
    {
     "cell_type": "code",
     "collapsed": false,
     "input": [
      "import scipy.linalg as la\n",
      "import scipy.stats as st"
     ],
     "language": "python",
     "metadata": {},
     "outputs": [],
     "prompt_number": 77
    },
    {
     "cell_type": "code",
     "collapsed": false,
     "input": [
      "import cPickle"
     ],
     "language": "python",
     "metadata": {},
     "outputs": [],
     "prompt_number": 78
    },
    {
     "cell_type": "code",
     "collapsed": false,
     "input": [
      "np.set_printoptions(formatter={'float': '{: 0.3f}'.format})"
     ],
     "language": "python",
     "metadata": {},
     "outputs": [],
     "prompt_number": 109
    },
    {
     "cell_type": "markdown",
     "metadata": {},
     "source": [
      "Latent Semantic Analysis (LSA) is a method for reducing the dimnesionality of documents treated as a bag of words. It is used for document classification, clustering and retrieval. For example, LSA can be used to search for prior art given a new patent application. In this homework, we will implement a small library for simple latent semantic analysis as a practical example of the application of SVD. The ideas are very similar to PCA.\n",
      "\n",
      "We will implement a toy example of LSA to get familiar with the ideas. If you want to use LSA or similar methods for statiscal language analyis, the most efficient Python library is probably [gensim](https://radimrehurek.com/gensim/) - this also provides an online algorithm - i.e. the training information can be continuously updated. Other useful functions for processing natural language can be found in the [Natural Lnaguage Toolkit](http://www.nltk.org/)."
     ]
    },
    {
     "cell_type": "markdown",
     "metadata": {},
     "source": [
      "**Note**: The SVD from scipy.linalg performs a full decomposition, which is inefficient since we only need to decompose until we get the first k singluar values. If the SVD from `scipy.linalg` is too slow, please use the `sparsesvd` function from the [sparsesvd](https://pypi.python.org/pypi/sparsesvd/) package to perform SVD instead.  You can install in the usual way with \n",
      "```\n",
      "!pip install sparsesvd\n",
      "```\n",
      "\n",
      "Then import the following\n",
      "```python\n",
      "from sparsesvd import sparsesvd \n",
      "from scipy.sparse import csc_matrix \n",
      "```\n",
      "\n",
      "and use as follows\n",
      "```python\n",
      "sparsesvd(csc_matrix(M), k=10)\n",
      "```"
     ]
    },
    {
     "cell_type": "code",
     "collapsed": false,
     "input": [
      "!pip install sparsesvd\n",
      "from sparsesvd import sparsesvd \n",
      "from scipy.sparse import csc_matrix"
     ],
     "language": "python",
     "metadata": {},
     "outputs": [
      {
       "output_type": "stream",
       "stream": "stdout",
       "text": [
        "Requirement already satisfied (use --upgrade to upgrade): sparsesvd in /home/bitnami/anaconda/lib/python2.7/site-packages\r\n",
        "Requirement already satisfied (use --upgrade to upgrade): scipy>=0.6.0 in /home/bitnami/anaconda/lib/python2.7/site-packages (from sparsesvd)\r\n",
        "Requirement already satisfied (use --upgrade to upgrade): cython in /home/bitnami/anaconda/lib/python2.7/site-packages (from sparsesvd)\r\n",
        "Cleaning up...\r\n"
       ]
      }
     ],
     "prompt_number": 80
    },
    {
     "cell_type": "markdown",
     "metadata": {},
     "source": [
      "**Exercise 1 (10 points)**.  Calculating pairwise distance matrices.\n",
      "\n",
      "Suppose we want to construct a distance matrix between the rows of a matrix. For example, given the matrix \n",
      "\n",
      "```python\n",
      "M = np.array([[1,2,3],[4,5,6]])\n",
      "```\n",
      "\n",
      "the distance matrix using Euclidean distance as the measure would be\n",
      "```python\n",
      "[[ 0.000  1.414  2.828]\n",
      " [ 1.414  0.000  1.414]\n",
      " [ 2.828  1.414  0.000]] \n",
      "```\n",
      "if $M$ was a collection of column vectors.\n",
      "\n",
      "Write a function to calculate the pairwise-distance matrix given the matrix $M$ and some arbitrary distance function. Your functions should have the following signature:\n",
      "```\n",
      "def func_name(M, distance_func):\n",
      "    pass\n",
      "```\n",
      "\n",
      "0. Write a distance function for the Euclidean, squared Euclidean and cosine measures.\n",
      "1. Write the function using looping for M as a collection of row vectors.\n",
      "2. Write the function using looping for M as a collection of column vectors.\n",
      "3. Wrtie the function using broadcasting for M as a colleciton of row vectors.\n",
      "4. Write the function using broadcasting for M as a colleciton of column vectors. \n",
      "\n",
      "For 3 and 4, try to avoid using transposition. Check that all four functions give the same result when applied to the given matrix $M$."
     ]
    },
    {
     "cell_type": "code",
     "collapsed": false,
     "input": [
      "\n"
     ],
     "language": "python",
     "metadata": {},
     "outputs": [],
     "prompt_number": 80
    },
    {
     "cell_type": "code",
     "collapsed": false,
     "input": [
      "\n",
      "from scipy.spatial import distance\n",
      "# Define three space function\n",
      "def Euclidean(u,v):\n",
      "    d = np.sum((u-v)**2,-1)**0.5\n",
      "    return d\n",
      "def squared_euclidean(u,v):\n",
      "    d = np.sum((u-v)**2,-1)\n",
      "    return d\n",
      "def cosine(u,v):\n",
      "    d = 1-np.sum(u*v,-1)/(np.sum(u**2,-1)**0.5 * np.sum(v**2,-1)**0.5)    \n",
      "    return d\n",
      "\n",
      "M = np.array([[1,2,3],[4,5,6]])\n",
      "\n",
      "# row pairwise function using looping for M as a collection of row vectors.\n",
      "def row_pairwise(M,distance_func):\n",
      "    n = M.shape[0]\n",
      "    m = np.zeros(shape=(n,n))\n",
      "    for i in range(n):\n",
      "        for j in range(n):\n",
      "            m[i,j] = distance_func(M[i,:],M[j,:])\n",
      "    return m\n",
      "print \"Row pairwise function using looping for M as a collection of row vectors results\"\n",
      "print row_pairwise(M,Euclidean) \n",
      "print row_pairwise(M,squared_euclidean) \n",
      "print row_pairwise(M,cosine),'\\n' \n",
      "\n",
      "# Column pairwise function using looping for M as a collection of column vectors\n",
      "def col_pairwise(M,distance_func):\n",
      "    n = M.shape[1]\n",
      "    m = np.zeros(shape=(n,n))\n",
      "    for i in range(n):\n",
      "        for j in range(n):\n",
      "            m[i,j] = distance_func(M[:,i],M[:,j])\n",
      "    return m\n",
      "print \"Column pairwise function using looping for M as a collection of column vectors\"\n",
      "print col_pairwise(M,Euclidean) \n",
      "print col_pairwise(M,squared_euclidean) \n",
      "print col_pairwise(M,cosine),'\\n'\n",
      "\n",
      "# Column broadcasting\n",
      "def col_bd(M,distance_func):\n",
      "   D = distance_func(M.T[None,:],M.T[:,None])\n",
      "   return D\n",
      "print \"Column broadcasting results\"\n",
      "print col_bd(M,Euclidean)\n",
      "print col_bd(M,squared_euclidean)\n",
      "print col_bd(M,cosine),'\\n'\n",
      "\n",
      "# Row broadcasting\n",
      "def row_bd(M,distance_func):\n",
      "   D = distance_func(M[None,:],M[:,None])\n",
      "   return D\n",
      "print \"Row broadcasting results\"\n",
      "print row_bd(M,Euclidean)\n",
      "print row_bd(M,squared_euclidean)\n",
      "print row_bd(M,cosine)"
     ],
     "language": "python",
     "metadata": {},
     "outputs": [
      {
       "output_type": "stream",
       "stream": "stdout",
       "text": [
        "Row pairwise function using looping for M as a collection of row vectors results\n",
        "[[ 0.000  5.196]\n",
        " [ 5.196  0.000]]\n",
        "[[ 0.000  27.000]\n",
        " [ 27.000  0.000]]\n",
        "[[ 0.000  0.025]\n",
        " [ 0.025  0.000]] \n",
        "\n",
        "Column pairwise function using looping for M as a collection of column vectors\n",
        "[[ 0.000  1.414  2.828]\n",
        " [ 1.414  0.000  1.414]\n",
        " [ 2.828  1.414  0.000]]\n",
        "[[ 0.000  2.000  8.000]\n",
        " [ 2.000  0.000  2.000]\n",
        " [ 8.000  2.000  0.000]]\n",
        "[[ 0.000  0.009  0.024]\n",
        " [ 0.009 -0.000  0.003]\n",
        " [ 0.024  0.003  0.000]] \n",
        "\n",
        "Column broadcasting results\n",
        "[[ 0.000  1.414  2.828]\n",
        " [ 1.414  0.000  1.414]\n",
        " [ 2.828  1.414  0.000]]\n",
        "[[0 2 8]\n",
        " [2 0 2]\n",
        " [8 2 0]]\n",
        "[[ 0.000  0.009  0.024]\n",
        " [ 0.009 -0.000  0.003]\n",
        " [ 0.024  0.003  0.000]] \n",
        "\n",
        "Row broadcasting results\n",
        "[[ 0.000  5.196]\n",
        " [ 5.196  0.000]]\n",
        "[[ 0 27]\n",
        " [27  0]]\n",
        "[[ 0.000  0.025]\n",
        " [ 0.025  0.000]]\n"
       ]
      }
     ],
     "prompt_number": 102
    },
    {
     "cell_type": "code",
     "collapsed": false,
     "input": [
      "\n"
     ],
     "language": "python",
     "metadata": {},
     "outputs": [],
     "prompt_number": 12
    },
    {
     "cell_type": "code",
     "collapsed": false,
     "input": [],
     "language": "python",
     "metadata": {},
     "outputs": [],
     "prompt_number": 12
    },
    {
     "cell_type": "code",
     "collapsed": false,
     "input": [],
     "language": "python",
     "metadata": {},
     "outputs": [],
     "prompt_number": 12
    },
    {
     "cell_type": "code",
     "collapsed": false,
     "input": [],
     "language": "python",
     "metadata": {},
     "outputs": [],
     "prompt_number": 12
    },
    {
     "cell_type": "code",
     "collapsed": false,
     "input": [],
     "language": "python",
     "metadata": {},
     "outputs": [],
     "prompt_number": 12
    },
    {
     "cell_type": "markdown",
     "metadata": {},
     "source": [
      "**Exercise 2 (10 points)**. Write 3 functions to calculate the term frequency (tf), the inverse document frequency (idf) and the product (tf-idf). Each function should take a single argument `docs`, which is a dictionary of (key=identifier, value=dcoument text) pairs, and return an appropriately sized array. Convert '-' to ' ' (space), remove punctuation, convert text to lowercase and split on whitespace to generate a collection of terms from the dcoument text.\n",
      "\n",
      "- tf = the number of occurrences of term $i$ in document $j$\n",
      "- idf = $\\log \\frac{n}{1 + \\text{df}_i}$ where $n$ is the total number of documents and $\\text{df}_i$ is the number of documents in which term $i$ occurs.\n",
      "\n",
      "Print the table of tf-idf values for the following document collection\n",
      "\n",
      "```\n",
      "s1 = \"The quick brown fox\"\n",
      "s2 = \"Brown fox jumps over the jumps jumps jumps\"\n",
      "s3 = \"The the the lazy dog elephant.\"\n",
      "s4 = \"The the the the the dog peacock lion tiger elephant\"\n",
      "\n",
      "docs = {'s1': s1, 's2': s2, 's3': s3, 's4': s4}\n",
      "```"
     ]
    },
    {
     "cell_type": "code",
     "collapsed": false,
     "input": [
      "from collections import Counter\n",
      "from string import punctuation\n",
      "from string import maketrans\n"
     ],
     "language": "python",
     "metadata": {},
     "outputs": [],
     "prompt_number": 82
    },
    {
     "cell_type": "code",
     "collapsed": false,
     "input": [
      "\n"
     ],
     "language": "python",
     "metadata": {},
     "outputs": [],
     "prompt_number": 102
    },
    {
     "cell_type": "code",
     "collapsed": false,
     "input": [
      "s1 = \"The quick brown fox\"\n",
      "s2 = \"Brown fox jumps over the jumps jumps jumps\"\n",
      "s3 = \"The the the lazy dog elephant.\"\n",
      "s4 = \"The the the the the dog peacock lion tiger elephant\"\n",
      "docs = {'s1': s1, 's2': s2, 's3': s3, 's4': s4}\n",
      "from collections import Counter\n",
      "from string import punctuation\n",
      "from string import maketrans\n",
      "\n",
      "\n",
      "\n",
      "def tf(docs):\n",
      "    \"\"\"Tf function takes the dictionary documents input and returns the dataframe, in order to\n",
      "    be standard, I sorted the words in the output so that it ranges in the alphebt order\"\"\"\n",
      "    matrix = []\n",
      "    # key stored the union keys of all the docuements\n",
      "    key = []\n",
      "    for j in docs:\n",
      "        d = docs[j].replace(\"-\",\" \").translate(None, punctuation).lower().split()\n",
      "        word_counts = Counter(d)\n",
      "        keys = word_counts.keys()\n",
      "        key.append(keys)\n",
      "    # After this for looping, the matrix M stored the resutls of tf_idf. \n",
      "    for j in docs:\n",
      "        d = sorted(docs[j].replace(\"-\",\" \").translate(None, punctuation).lower().split())\n",
      "        word_counts = Counter(d)\n",
      "        l=[]\n",
      "        for k in sorted(set().union(*key)):\n",
      "            if k not in word_counts.keys():\n",
      "               l.append(0)\n",
      "            else :\n",
      "               l.append(word_counts[k])\n",
      "        columns=docs.keys()\n",
      "        matrix.append(l)  \n",
      "    return pd.DataFrame(np.array(matrix).transpose(),index=sorted(set().union(*key)),columns=columns)\n",
      "print tf(docs)\n",
      "\n",
      "\n",
      "\n",
      "def idf(docs):\n",
      "    t=tf(docs)\n",
      "    n=t.shape[1]\n",
      "    l=[n-list(np.array(t.ix[i])).count(0) for i in list(t.index)]\n",
      "    return np.log(float(n)/(1+np.array(l)))\n",
      "print idf(docs)\n",
      "\n",
      "t=tf(docs)\n",
      "inv=idf(docs)\n",
      "\n",
      "# Created the tf_idf function\n",
      "def tf_idf(docs):\n",
      "  \"\"\" This function accept input of dictionary document and output the tf_idf results\"\"\"\n",
      "  tf_id = []\n",
      "  for j in list(t.columns):\n",
      "    tf_i=[]\n",
      "    ii = -1 \n",
      "    for i in list(t.index):\n",
      "        ii = ii + 1\n",
      "        tf_i.append(t.at[i,j]*inv[ii])\n",
      "    tf_id.append(tf_i)\n",
      "  columns=docs.keys()\n",
      "  key = []\n",
      "  for j in docs:\n",
      "        d = docs[j].replace(\"-\",\" \").translate(None, punctuation).lower().split()\n",
      "        word_counts = Counter(d)\n",
      "        keys = word_counts.keys()\n",
      "        key.append(keys)\n",
      "  df = pd.DataFrame(np.array(tf_id).transpose(),index=sorted(set().union(*key)),columns=columns)\n",
      "  return df\n",
      "\n",
      "print tf_idf(docs)\n",
      "\n"
     ],
     "language": "python",
     "metadata": {},
     "outputs": [
      {
       "output_type": "stream",
       "stream": "stdout",
       "text": [
        "          s3  s2  s1  s4\n",
        "brown      0   1   1   0\n",
        "dog        1   0   0   1\n",
        "elephant   1   0   0   1\n",
        "fox        0   1   1   0\n",
        "jumps      0   4   0   0\n",
        "lazy       1   0   0   0\n",
        "lion       0   0   0   1\n",
        "over       0   1   0   0\n",
        "peacock    0   0   0   1\n",
        "quick      0   0   1   0\n",
        "the        3   1   1   5\n",
        "tiger      0   0   0   1\n",
        "[ 0.288  0.288  0.288  0.288  0.693  0.693  0.693  0.693  0.693  0.693\n",
        " -0.223  0.693]\n",
        "                s3        s2        s1        s4\n",
        "brown     0.000000  0.287682  0.287682  0.000000\n",
        "dog       0.287682  0.000000  0.000000  0.287682\n",
        "elephant  0.287682  0.000000  0.000000  0.287682\n",
        "fox       0.000000  0.287682  0.287682  0.000000\n",
        "jumps     0.000000  2.772589  0.000000  0.000000\n",
        "lazy      0.693147  0.000000  0.000000  0.000000\n",
        "lion      0.000000  0.000000  0.000000  0.693147\n",
        "over      0.000000  0.693147  0.000000  0.000000\n",
        "peacock   0.000000  0.000000  0.000000  0.693147\n",
        "quick     0.000000  0.000000  0.693147  0.000000\n",
        "the      -0.669431 -0.223144 -0.223144 -1.115718\n",
        "tiger     0.000000  0.000000  0.000000  0.693147\n"
       ]
      }
     ],
     "prompt_number": 103
    },
    {
     "cell_type": "code",
     "collapsed": false,
     "input": [],
     "language": "python",
     "metadata": {},
     "outputs": [],
     "prompt_number": 71
    },
    {
     "cell_type": "code",
     "collapsed": false,
     "input": [],
     "language": "python",
     "metadata": {},
     "outputs": [],
     "prompt_number": 71
    },
    {
     "cell_type": "code",
     "collapsed": false,
     "input": [],
     "language": "python",
     "metadata": {},
     "outputs": [],
     "prompt_number": 110
    },
    {
     "cell_type": "code",
     "collapsed": false,
     "input": [
      "\n"
     ],
     "language": "python",
     "metadata": {},
     "outputs": [],
     "prompt_number": 284
    },
    {
     "cell_type": "markdown",
     "metadata": {},
     "source": [
      "**Exercise 3 (10 points)**. \n",
      "\n",
      "1. Write a function that takes a matrix $M$ and an integer $k$ as arguments, and reconstructs a reduced matrix using only the $k$ largest singular values. Use the `scipy.linagl.svd` function to perform the decomposition. This is the least squares approximation to the matrix $M$ in $k$ dimensions.\n",
      "\n",
      "2. Apply the function you just wrote to the following term-frequency matrix for a set of $9$ documents using $k=2$ and print the reconstructed matrix $M'$.\n",
      "```\n",
      "M = np.array([[1, 0, 0, 1, 0, 0, 0, 0, 0],\n",
      "       [1, 0, 1, 0, 0, 0, 0, 0, 0],\n",
      "       [1, 1, 0, 0, 0, 0, 0, 0, 0],\n",
      "       [0, 1, 1, 0, 1, 0, 0, 0, 0],\n",
      "       [0, 1, 1, 2, 0, 0, 0, 0, 0],\n",
      "       [0, 1, 0, 0, 1, 0, 0, 0, 0],\n",
      "       [0, 1, 0, 0, 1, 0, 0, 0, 0],\n",
      "       [0, 0, 1, 1, 0, 0, 0, 0, 0],\n",
      "       [0, 1, 0, 0, 0, 0, 0, 0, 1],\n",
      "       [0, 0, 0, 0, 0, 1, 1, 1, 0],\n",
      "       [0, 0, 0, 0, 0, 0, 1, 1, 1],\n",
      "       [0, 0, 0, 0, 0, 0, 0, 1, 1]])\n",
      "```\n",
      "\n",
      "3. Calculate the pairwise correlation matrix for the original matrix M and the reconstructed matrix using $k=2$ singular values (you may use [scipy.stats.spearmanr](http://docs.scipy.org/doc/scipy/reference/generated/scipy.stats.spearmanr.html) to do the calculations). Consider the fist 5 sets of documents as one group $G1$ and the last 4 as another group $G2$ (i.e. first 5 and last 4 columns). What is the average within group correlation for $G1$, $G2$ and the average cross-group correlation for G1-G2 using either $M$ or $M'$. (Do not include self-correlation in the within-group calculations.)."
     ]
    },
    {
     "cell_type": "code",
     "collapsed": false,
     "input": [],
     "language": "python",
     "metadata": {},
     "outputs": [],
     "prompt_number": 9
    },
    {
     "cell_type": "code",
     "collapsed": false,
     "input": [
      "M = np.array([[1, 0, 0, 1, 0, 0, 0, 0, 0],\n",
      "    [1, 0, 1, 0, 0, 0, 0, 0, 0],\n",
      "    [1, 1, 0, 0, 0, 0, 0, 0, 0],\n",
      "    [0, 1, 1, 0, 1, 0, 0, 0, 0],\n",
      "    [0, 1, 1, 2, 0, 0, 0, 0, 0],\n",
      "    [0, 1, 0, 0, 1, 0, 0, 0, 0],\n",
      "    [0, 1, 0, 0, 1, 0, 0, 0, 0],\n",
      "    [0, 0, 1, 1, 0, 0, 0, 0, 0],\n",
      "    [0, 1, 0, 0, 0, 0, 0, 0, 1],\n",
      "    [0, 0, 0, 0, 0, 1, 1, 1, 0],\n",
      "    [0, 0, 0, 0, 0, 0, 1, 1, 1],\n",
      "    [0, 0, 0, 0, 0, 0, 0, 1, 1]])\n",
      "\n",
      "\n",
      "def decompose (M,k):\n",
      "    \"\"\" The deocmpose function reconstructed the matrix with lower dimension by svd\"\"\"\n",
      "    U, S, V = sparsesvd(csc_matrix(M), k)\n",
      "    MM = np.dot(U.T, np.dot(np.diag(S), V))\n",
      "    return MM\n",
      "\n",
      "# Second question return M'\n",
      "MM = decompose(M,2)\n",
      "print \"The reconstructed matrix of M is\"\n",
      "print MM\n",
      "\n",
      "\n",
      "# Third question return \n",
      "from scipy.stats import spearmanr \n",
      "\n",
      "G1 = M[:,:5]\n",
      "G2 = M[:,5:]\n",
      "cor_g1,p=spearmanr(G1)\n",
      "\n",
      "print \"The average within group correlation for G1 is\",(np.sum(cor_g1)-5)/(cor_g1.shape[0]*cor_g1.shape[1]-5)\n",
      "cor_g2,p=spearmanr(G2)\n",
      "print \"The average within group correlation for G2 is\",(np.sum(cor_g2)-4)/(cor_g2.shape[0]*cor_g2.shape[1]-4)\n",
      "\n",
      "cor_g,p=spearmanr(M)\n",
      "cor_g12=cor_g[:5,5:]\n",
      "print \"The average within group correlation for G1 and G2 is\",(np.sum(cor_g12))/(cor_g12.shape[0]*cor_g12.shape[1])"
     ],
     "language": "python",
     "metadata": {},
     "outputs": [
      {
       "output_type": "stream",
       "stream": "stdout",
       "text": [
        "The reconstructed matrix of M is\n",
        "[[ 0.162  0.400  0.379  0.468  0.176 -0.053 -0.115 -0.159 -0.092]\n",
        " [ 0.141  0.370  0.329  0.400  0.165 -0.033 -0.071 -0.097 -0.043]\n",
        " [ 0.152  0.505  0.358  0.410  0.236  0.024  0.060  0.087  0.124]\n",
        " [ 0.258  0.841  0.606  0.697  0.392  0.033  0.083  0.122  0.187]\n",
        " [ 0.449  1.234  1.051  1.266  0.556 -0.074 -0.155 -0.210 -0.049]\n",
        " [ 0.160  0.582  0.375  0.417  0.277  0.056  0.132  0.189  0.217]\n",
        " [ 0.160  0.582  0.375  0.417  0.277  0.056  0.132  0.189  0.217]\n",
        " [ 0.218  0.550  0.511  0.628  0.243 -0.065 -0.143 -0.197 -0.108]\n",
        " [ 0.097  0.532  0.230  0.212  0.267  0.137  0.315  0.444  0.425]\n",
        " [-0.061  0.232 -0.139 -0.266  0.145  0.240  0.546  0.767  0.664]\n",
        " [-0.065  0.335 -0.146 -0.301  0.203  0.306  0.695  0.977  0.849]\n",
        " [-0.043  0.254 -0.097 -0.208  0.152  0.221  0.503  0.707  0.616]]\n",
        "The average within group correlation for G1 is 0.0105776866299\n",
        "The average within group correlation for G2 is 0.43511771482\n",
        "The average within group correlation for G1 and G2 is -0.307562188906\n"
       ]
      }
     ],
     "prompt_number": 110
    },
    {
     "cell_type": "code",
     "collapsed": false,
     "input": [
      "\n"
     ],
     "language": "python",
     "metadata": {},
     "outputs": [],
     "prompt_number": 72
    },
    {
     "cell_type": "code",
     "collapsed": false,
     "input": [],
     "language": "python",
     "metadata": {},
     "outputs": [],
     "prompt_number": 72
    },
    {
     "cell_type": "code",
     "collapsed": false,
     "input": [],
     "language": "python",
     "metadata": {},
     "outputs": [],
     "prompt_number": 72
    },
    {
     "cell_type": "markdown",
     "metadata": {},
     "source": [
      "**Exercise 4 (20 points)**. Clustering with LSA\n",
      "\n",
      "1. Begin by loading a pubmed database of selected article titles using 'cPickle'. With the following:\n",
      "```import cPickle\n",
      "docs = cPickle.load(open('pubmed.pic'))```\n",
      "\n",
      "    Create a tf-idf matrix for every term that appears at least once in any of the documents. What is the shape of the tf-idf matrix? \n",
      "\n",
      "2. Perform SVD on the tf-idf matrix to obtain $U \\Sigma V^T$ (often written as $T \\Sigma D^T$ in this context with $T$ representing the terms and $D$ representing the documents). If we set all but the top $k$ singular values to 0, the reconstructed matrix is essentially $U_k \\Sigma_k V_k^T$, where $U_k$ is $m \\times k$, $\\Sigma_k$ is $k \\times k$ and $V_k^T$ is $k \\times n$. Terms in this reduced space are represented by $U_k \\Sigma_k$ and documents by $\\Sigma_k V^T_k$. Reconstruct the matrix using the first $k=10$ singular values.\n",
      "\n",
      "3. Use agglomerative hierachical clustering with complete linkage to plot a dendrogram and comment on the likely number of  document clusters with $k = 100$. Use the dendrogram function from [SciPy ](https://docs.scipy.org/doc/scipy-0.15.1/reference/generated/scipy.cluster.hierarchy.dendrogram.html).\n",
      "\n",
      "4. Determine how similar each of the original documents is to the new document `mystery.txt`. Since $A = U \\Sigma V^T$, we also have $V = A^T U S^{-1}$ using orthogonality and the rule for transposing matrix products. This suggests that in order to map the new document to the same concept space, first find the tf-idf vector $v$ for the new document - this must contain all (and only) the terms present in the existing tf-idx matrix. Then the query vector $q$ is given by $v^T U_k \\Sigma_k^{-1}$. Find the 10 documents most similar to the new document and the 10 most dissimilar. \n",
      "\n",
      "5. Many documents often have some boilerplate material such as organization information, Copyright, etc. at the front or back of the document. Does it matter that the front and back matter of each document is essentially identical for either LSA-based clustering (part 3) or information retrieval (part 4)? Why or why not?"
     ]
    },
    {
     "cell_type": "code",
     "collapsed": false,
     "input": [],
     "language": "python",
     "metadata": {},
     "outputs": [],
     "prompt_number": 72
    },
    {
     "cell_type": "code",
     "collapsed": false,
     "input": [
      "import cPickle\n",
      "docs = cPickle.load(open('pubmed.pic'))\n",
      "# Got the tf-idf matrix and its shape\n",
      "t=tf(docs)\n",
      "inv=idf(docs)\n",
      "A=tf_idf(docs)\n",
      "print \"The shape of matrix A is\",A.shape"
     ],
     "language": "python",
     "metadata": {},
     "outputs": [
      {
       "output_type": "stream",
       "stream": "stdout",
       "text": [
        "The shape of matrix A is (6488, 178)\n"
       ]
      }
     ],
     "prompt_number": 104
    },
    {
     "cell_type": "code",
     "collapsed": false,
     "input": [
      "# Reconstruct the matrix by calling the decompose function written in previous questions.\n",
      "print decompose(A,10)"
     ],
     "language": "python",
     "metadata": {},
     "outputs": [
      {
       "output_type": "stream",
       "stream": "stdout",
       "text": [
        "[[ 0.091  0.145  0.069 ..., -0.251  0.051  0.059]\n",
        " [ 0.007  0.027  0.014 ...,  0.083  0.014  0.005]\n",
        " [ 0.027  0.007  0.005 ..., -0.192  0.013  0.035]\n",
        " ..., \n",
        " [ 0.009  0.019  0.016 ...,  0.008  0.005  0.009]\n",
        " [ 0.043  0.109  0.081 ...,  0.162  0.042  0.040]\n",
        " [ 0.010  0.025  0.019 ...,  0.018  0.008  0.010]]\n"
       ]
      }
     ],
     "prompt_number": 89
    },
    {
     "cell_type": "code",
     "collapsed": false,
     "input": [],
     "language": "python",
     "metadata": {},
     "outputs": [],
     "prompt_number": 76
    },
    {
     "cell_type": "code",
     "collapsed": false,
     "input": [
      "# Did agglomerative hierachical clustering and draw the graph\n",
      "from scipy.cluster.hierarchy import linkage, dendrogram\n",
      "dec_A=decompose(A,100)\n",
      "print dec_A.shape\n",
      "dm=row_pairwise(dec_A.T, cosine)\n",
      "\n",
      "den = dendrogram(linkage(dm,method='complete'),orientation='right')\n",
      "type(den)"
     ],
     "language": "python",
     "metadata": {},
     "outputs": [
      {
       "output_type": "stream",
       "stream": "stdout",
       "text": [
        "(6488, 178)\n"
       ]
      },
      {
       "metadata": {},
       "output_type": "pyout",
       "prompt_number": 90,
       "text": [
        "dict"
       ]
      },
      {
       "metadata": {},
       "output_type": "display_data",
       "png": "[encoded data removed]",
       "text": [
        "<matplotlib.figure.Figure at 0x7f90b19c8790>"
       ]
      }
     ],
     "prompt_number": 90
    },
    {
     "cell_type": "code",
     "collapsed": false,
     "input": [],
     "language": "python",
     "metadata": {},
     "outputs": [],
     "prompt_number": 95
    },
    {
     "cell_type": "code",
     "collapsed": false,
     "input": [
      "# Downloaded the new txt and clean it as a list\n",
      "new = open('mystery.txt').read().replace(\"-\",\" \").translate(None, punctuation).lower().split() \n",
      "# Stored the selected terms of this document in B so that the selected terms are the common \n",
      "# terms in A\n",
      "B = [x for x in new if x in list(A.index)]\n",
      "\n",
      "# Got the term frequency for B\n",
      "word_counts = Counter(B)\n",
      "tf_B=[]\n",
      "for k in list(A.index):\n",
      "    if k not in word_counts.keys():\n",
      "        tf_B.append(0)\n",
      "    else :\n",
      "        tf_B.append(word_counts[k])\n",
      "# Got the tf_idf for B\n",
      "tf_idfB = inv * np.array(tf_B)\n",
      "\n",
      "# Constructed the 10 main term basis which are the combinaition of all the terms and stored this \n",
      "# basis in l\n",
      "Uk, Sk, Vk = sparsesvd(csc_matrix(A), 10)\n",
      "l = np.dot(Uk.T,la.inv(np.diag(Sk))) \n",
      "\n",
      "# Put the tf_idf of B on this 10 dimension basis and q recorded \n",
      "# the new document on the main 10 basis score\n",
      "q = np.array(tf_idfB.T).dot(l) \n",
      "print q\n",
      "\n",
      "# The performance of tf_idf of 178 documents in the new 10 main basis is recored in Cc. \n",
      "Cc = (l.T).dot(A)\n",
      "# Used the cosine similarity to determine the similarity between the new documents with all the others\n",
      "similarity = np.sum(Cc * q[:,None],0)/(np.sum(Cc**2,0)**0.5 * np.sum(q**2,0)**0.5) \n",
      "sort_index = A.columns[np.argsort(similarity)]\n",
      "\n",
      "# Selected the most similar and least similar 10 documents. \n",
      "least_related = np.array(list(sort_index[0:10])).T\n",
      "most_similar = np.array(list(sort_index[168:178])).T\n",
      "\n",
      "print \"The least similar 10 documents are\"\n",
      "print least_related,'\\n'\n",
      "\n",
      "print \"The most similar 10 documents are\"\n",
      "print most_similar,'\\n'"
     ],
     "language": "python",
     "metadata": {},
     "outputs": [
      {
       "output_type": "stream",
       "stream": "stdout",
       "text": [
        "[-0.024  0.098 -0.048 -0.038 -0.003  0.025  0.077 -0.046  0.016  0.052]\n",
        "[ 18 141 121  84 173 120 138  79   5  25] \n",
        "\n",
        "The least similar 10 documents are\n",
        "[ 'Dopamine Increases CD14+CD16+ Monocyte Migration and Adhesion in the Context of Substance Abuse and HIV Neuropathogenesis.'\n",
        " 'Phenotypic profiling of CD8 + T cells during Plasmodium vivax blood-stage infection.'\n",
        " 'The antitumor compound triazoloacridinone C-1305 inhibits FLT3 kinase activity and potentiates apoptosis in mutant FLT3-ITD leukemia cells.'\n",
        " 'PD-1/PD-L1 Costimulatory Pathway-induced Mouse Islet Transplantation Immune Tolerance.'\n",
        " 'Vitamin D deficiency in pregnant women impairs Regulatory T cell function.'\n",
        " 'Dissociation between anti-porcine albumin and anti-Gal antibody responses in non-human primate recipients of intraportal porcine islet transplantation.'\n",
        " 'Oxidized LDL levels are increased in HIV infection and may drive monocyte activation.'\n",
        " 'Removal of peanut allergen Ara h 1 from common hospital surfaces, toys and books using standard cleaning methods.'\n",
        " 'Allergy to sunflower seed and sunflower butter as proposed vehicle for sensitization.'\n",
        " 'The modulatory effects of caffeic acid on human monocytes and its involvement in propolis action.'] \n",
        "\n",
        "The most similar 10 documents are\n",
        "[ 'Gram-negative bacterial carriage in chronic rhinosinusitis with nasal polyposis is not associated with more severe inflammation.'\n",
        " 'Exploring gut microbes in human health and disease: Pushing the envelope.'\n",
        " 'Automatic Differentiation of Normal and Continuous Adventitious Respiratory Sounds Using Ensemble Empirical Mode Decomposition and Instantaneous Frequency.'\n",
        " 'Transfer function of protoplasmic tubes of Physarum polycephalum.'\n",
        " 'IL-18 is associated with protection against rhinovirus-induced colds and asthma exacerbations.'\n",
        " 'Socioeconomic Status and Other Related Factors of Seasonal Influenza Vaccination in the South Korean Adult Population Based on a Nationwide Cross-Sectional Study.'\n",
        " 'Feasibility of the SMART Project: A Text Message Program for Adolescents With Type 1 Diabetes.'\n",
        " 'Diabetes Numeracy and Blood Glucose Control: Association With Type of Diabetes and Source of Care.'\n",
        " 'The influence of organophosphate and carbamate on sperm chromatin and reproductive hormones among pesticide sprayers.'\n",
        " 'Efficacy of a Transition Theory-Based Discharge Planning Program for Childhood Asthma Management.'] \n",
        "\n"
       ]
      }
     ],
     "prompt_number": 100
    },
    {
     "cell_type": "code",
     "collapsed": false,
     "input": [
      "print \"\"\" It does not matter. The reason is that a lot of common words in the boilerplate, so that it is not good to differentiate the documents.The common words are not useful for LSA.\"\"\""
     ],
     "language": "python",
     "metadata": {},
     "outputs": [
      {
       "output_type": "stream",
       "stream": "stdout",
       "text": [
        " It does not matter. The reason is that a lot of common words in the boilerplate, so that it is not good to differentiate the documents.The common words are not useful for LSA.\n"
       ]
      }
     ],
     "prompt_number": 113
    },
    {
     "cell_type": "code",
     "collapsed": false,
     "input": [],
     "language": "python",
     "metadata": {},
     "outputs": [],
     "prompt_number": 31
    },
    {
     "cell_type": "code",
     "collapsed": false,
     "input": [],
     "language": "python",
     "metadata": {},
     "outputs": [],
     "prompt_number": 141
    },
    {
     "cell_type": "code",
     "collapsed": false,
     "input": [],
     "language": "python",
     "metadata": {},
     "outputs": [],
     "prompt_number": 141
    },
    {
     "cell_type": "code",
     "collapsed": false,
     "input": [],
     "language": "python",
     "metadata": {},
     "outputs": [],
     "prompt_number": 141
    },
    {
     "cell_type": "code",
     "collapsed": false,
     "input": [],
     "language": "python",
     "metadata": {},
     "outputs": [],
     "prompt_number": 141
    },
    {
     "cell_type": "markdown",
     "metadata": {},
     "source": [
      "Notes on the Pubmed articles\n",
      "----\n",
      "\n",
      "These were downloaded with the following script.\n",
      "\n",
      "```python\n",
      "from Bio import Entrez, Medline\n",
      "Entrez.email = \"YOUR EMAIL HERE\"\n",
      "import cPickle\n",
      "\n",
      "try:\n",
      "    docs = cPickle.load(open('pubmed.pic'))\n",
      "except Exception, e:\n",
      "    print e\n",
      "\n",
      "    docs = {}\n",
      "    for term in ['plasmodium', 'diabetes', 'asthma', 'cytometry']:\n",
      "        handle = Entrez.esearch(db=\"pubmed\", term=term, retmax=50)\n",
      "        result = Entrez.read(handle)\n",
      "        handle.close()\n",
      "        idlist = result[\"IdList\"]\n",
      "        handle2 = Entrez.efetch(db=\"pubmed\", id=idlist, rettype=\"medline\", retmode=\"text\")\n",
      "        result2 = Medline.parse(handle2)\n",
      "        for record in result2:\n",
      "            title = record.get(\"TI\", None)\n",
      "            abstract = record.get(\"AB\", None)\n",
      "            if title is None or abstract is None:\n",
      "                continue\n",
      "            docs[title] = '\\n'.join([title, abstract])\n",
      "            print title\n",
      "        handle2.close()\n",
      "    cPickle.dump(docs, open('pubmed.pic', 'w'))\n",
      "docs.values()\n",
      "```"
     ]
    }
   ],
   "metadata": {}
  }
 ]
}